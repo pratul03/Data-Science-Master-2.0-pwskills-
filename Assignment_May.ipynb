{
 "cells": [
  {
   "cell_type": "code",
   "execution_count": 5,
   "id": "64190e7f-15f8-45c1-a334-dd4aa85c1eed",
   "metadata": {},
   "outputs": [
    {
     "name": "stdout",
     "output_type": "stream",
     "text": [
      "Thank You.\n"
     ]
    }
   ],
   "source": [
    "#Q1. Create one variable containing following type of data:"
   ]
  },
  {
   "cell_type": "code",
   "execution_count": 17,
   "id": "b6d06a24-2439-4066-a006-d1fd3ed1b143",
   "metadata": {},
   "outputs": [
    {
     "name": "stdout",
     "output_type": "stream",
     "text": [
      "Thank You.\n"
     ]
    }
   ],
   "source": [
    "string = \"Thank You.\" #string variable\n",
    "print(string)"
   ]
  },
  {
   "cell_type": "code",
   "execution_count": 8,
   "id": "2ac900dc-3a20-4c82-948c-e9844f1c7d1f",
   "metadata": {},
   "outputs": [
    {
     "name": "stdout",
     "output_type": "stream",
     "text": [
      "[1, 2, 3, 'hello world', 8.9]\n"
     ]
    }
   ],
   "source": [
    "l = [1,2,3,\"hello world\",8.9] #list variable\n",
    "print(l)"
   ]
  },
  {
   "cell_type": "code",
   "execution_count": 9,
   "id": "f219cb5d-cedb-4df9-9cf5-2bf5288b4c38",
   "metadata": {},
   "outputs": [
    {
     "name": "stdout",
     "output_type": "stream",
     "text": [
      "<class 'float'>\n",
      "2.3\n"
     ]
    }
   ],
   "source": [
    "f = 2.3 #float variable\n",
    "print(type(f))\n",
    "print(f)"
   ]
  },
  {
   "cell_type": "code",
   "execution_count": 16,
   "id": "d3066e0d-ba75-4523-b3eb-524094b08667",
   "metadata": {},
   "outputs": [
    {
     "name": "stdout",
     "output_type": "stream",
     "text": [
      "<class 'tuple'>\n",
      "(1, 2, 3, 4, 'hi', 9.88)\n"
     ]
    }
   ],
   "source": [
    "p = (1,2,3,4,\"hi\",9.88)\n",
    "print(type(p))\n",
    "print(p)"
   ]
  },
  {
   "cell_type": "code",
   "execution_count": 21,
   "id": "37469ea8-c5ce-4a07-acf4-5997419af15f",
   "metadata": {},
   "outputs": [
    {
     "name": "stdout",
     "output_type": "stream",
     "text": [
      "<class 'str'>\n",
      "<class 'str'>\n",
      "<class 'list'>\n",
      "<class 'float'>\n"
     ]
    }
   ],
   "source": [
    "#Q2. Given are some following variables containing data:\n",
    "\n",
    "var1 = ' '\n",
    "var2 = '[ DS , ML , Python]'\n",
    "var3 = ['Ds','ML','Python' ]\n",
    "var4 = 1.\n",
    "print(type(var1))\n",
    "print(type(var2))\n",
    "print(type(var3))\n",
    "print(type(var4))"
   ]
  },
  {
   "cell_type": "code",
   "execution_count": 26,
   "id": "c95de720-6053-4396-a498-5d87eb16bdf2",
   "metadata": {},
   "outputs": [
    {
     "name": "stdout",
     "output_type": "stream",
     "text": [
      "2.5\n",
      "1\n",
      "2\n",
      "25\n"
     ]
    }
   ],
   "source": [
    "'''Q3. Explain the use of the following operators using an example:\n",
    "(i) /\n",
    "(ii) %\n",
    "(iii) //\n",
    "(iv) ** '''\n",
    "\n",
    "\n",
    "a = 5/2 #division operator\n",
    "\n",
    "b = 5%2 #modular operator\n",
    "\n",
    "c = 5//2 #floor operator\n",
    "\n",
    "d = 5**2 #power operator\n",
    "\n",
    "print(a)\n",
    "print(b)\n",
    "print(c)\n",
    "print(d)"
   ]
  },
  {
   "cell_type": "code",
   "execution_count": 27,
   "id": "5b99d129-044f-4440-b63d-e9c05a92e6d1",
   "metadata": {},
   "outputs": [
    {
     "name": "stdout",
     "output_type": "stream",
     "text": [
      "1\n",
      "2\n",
      "5.6\n",
      "hello world\n",
      "(1, 2, 3)\n",
      "89\n",
      "ture\n",
      "*\n",
      "30\n",
      "10.1\n"
     ]
    }
   ],
   "source": [
    "''' Q4. Create a list of length 10 of your choice containing multiple types of data. Using for loop print the\n",
    "element and its data type. '''\n",
    "\n",
    "l = [1 ,2 ,5.6, \"hello world\" , (1,2,3), 89, \"ture\", \"*\", 30,10.10]\n",
    "for i in l:\n",
    "    print(i)"
   ]
  },
  {
   "cell_type": "code",
   "execution_count": 39,
   "id": "0d186d5c-0418-4bca-9b07-5c0f46be24b9",
   "metadata": {},
   "outputs": [
    {
     "name": "stdin",
     "output_type": "stream",
     "text": [
      "enter any number :  200\n",
      "enter ant number :  2\n"
     ]
    },
    {
     "name": "stdout",
     "output_type": "stream",
     "text": [
      "3\n"
     ]
    }
   ],
   "source": [
    "'''Q5. Using a while loop, verify if the number A is purely divisible by number B and if so then how many\n",
    "times it can be divisible.'''\n",
    "\n",
    "a = int(input(\"enter any number : \"))\n",
    "b = int(input(\"enter ant number : \"))\n",
    "div=0\n",
    "while(a%b==0):\n",
    "    a=a//b\n",
    "    div+=1\n",
    "print(div)"
   ]
  },
  {
   "cell_type": "code",
   "execution_count": 41,
   "id": "946071b6-5bb2-4c11-9f06-0df7a5e5e9d4",
   "metadata": {},
   "outputs": [
    {
     "name": "stdout",
     "output_type": "stream",
     "text": [
      "3\n",
      "6\n",
      "9\n",
      "12\n",
      "15\n",
      "18\n",
      "21\n",
      "24\n"
     ]
    }
   ],
   "source": [
    "''' Q6. Create a list containing 25 int type data. Using for loop and if-else condition print if the element is\n",
    "divisible by 3 or not.'''\n",
    "\n",
    "l = [1,2,3,4,5,6,7,8,9,10,11,12,13,14,15,16,17,18,19,20,21,22,23,24,25]\n",
    "for i in l:\n",
    "    if i%3 == 0:\n",
    "        print(i)\n"
   ]
  },
  {
   "cell_type": "code",
   "execution_count": 47,
   "id": "98ae40a0-55aa-4919-8324-217130378009",
   "metadata": {},
   "outputs": [
    {
     "name": "stdout",
     "output_type": "stream",
     "text": [
      "After changes [1, 2, 3, 'Python', 'Kolkata', 'Pwskills', 66, 'Data Science']\n"
     ]
    },
    {
     "ename": "TypeError",
     "evalue": "'str' object does not support item assignment",
     "output_type": "error",
     "traceback": [
      "\u001b[0;31m---------------------------------------------------------------------------\u001b[0m",
      "\u001b[0;31mTypeError\u001b[0m                                 Traceback (most recent call last)",
      "Cell \u001b[0;32mIn[47], line 17\u001b[0m\n\u001b[1;32m     12\u001b[0m \u001b[38;5;124;03m'''(ii) Immutabble data types:\u001b[39;00m\n\u001b[1;32m     13\u001b[0m \u001b[38;5;124;03m                            The data types whose elements cannot be changed , replaced or removed using any means are called immutable data types. ex- tuple,str,integer,float.\u001b[39;00m\n\u001b[1;32m     14\u001b[0m \u001b[38;5;124;03m                            '''\u001b[39;00m\n\u001b[1;32m     16\u001b[0m p \u001b[38;5;241m=\u001b[39m \u001b[38;5;124m\"\u001b[39m\u001b[38;5;124mString\u001b[39m\u001b[38;5;124m\"\u001b[39m\n\u001b[0;32m---> 17\u001b[0m \u001b[43mp\u001b[49m\u001b[43m[\u001b[49m\u001b[38;5;241;43m2\u001b[39;49m\u001b[43m]\u001b[49m\u001b[38;5;241m=\u001b[39m\u001b[38;5;124m\"\u001b[39m\u001b[38;5;124m2\u001b[39m\u001b[38;5;124m\"\u001b[39m\n\u001b[1;32m     18\u001b[0m \u001b[38;5;28mprint\u001b[39m(p)\n",
      "\u001b[0;31mTypeError\u001b[0m: 'str' object does not support item assignment"
     ]
    }
   ],
   "source": [
    "'''Q7. What do you understand about mutable and immutable data types? Give examples for both showing\n",
    "this property.'''\n",
    "\n",
    "'''(i)Mutable data types:\n",
    "                        The data types whose elements can be changed, removed, or replaced by using their index positions are called mutable data types..ex- list,dictionary,set.\n",
    "                        '''\n",
    "\n",
    "l = [1,2,3,33.44,\"Kolkata\",\"Pwskills\",66,\"Data Science\"]\n",
    "l[3]=\"Python\"\n",
    "print(\"After changes\",l)\n",
    "\n",
    "'''(ii) Immutabble data types:\n",
    "                            The data types whose elements cannot be changed , replaced or removed using any means are called immutable data types. ex- tuple,str,integer,float.\n",
    "                            '''\n",
    "\n",
    "p = \"String\"\n",
    "p[2]=\"2\"\n",
    "print(p)"
   ]
  }
 ],
 "metadata": {
  "kernelspec": {
   "display_name": "Python 3 (ipykernel)",
   "language": "python",
   "name": "python3"
  },
  "language_info": {
   "codemirror_mode": {
    "name": "ipython",
    "version": 3
   },
   "file_extension": ".py",
   "mimetype": "text/x-python",
   "name": "python",
   "nbconvert_exporter": "python",
   "pygments_lexer": "ipython3",
   "version": "3.10.8"
  }
 },
 "nbformat": 4,
 "nbformat_minor": 5
}
