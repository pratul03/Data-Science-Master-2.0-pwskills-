{
 "cells": [
  {
   "cell_type": "markdown",
   "id": "72bfec0d-9b7c-4dc2-a2ed-c66beef5d29d",
   "metadata": {},
   "source": [
    "##Q1. How do you comment code in Python? What are the different types of comments?##"
   ]
  },
  {
   "cell_type": "markdown",
   "id": "1505fbaa-1b62-4417-b9d7-a3fc1cd2f818",
   "metadata": {},
   "source": [
    "We have two types of commment in python , (i) Single - line comments and (ii) Multi Line comments.\n",
    "\n",
    "To add a single-line comment, we can use the hash symbol (#). Anything after the hash symbol on the same line is considered as a comment and is ignored by the Python interpreter."
   ]
  },
  {
   "cell_type": "code",
   "execution_count": null,
   "id": "5fddb302-7087-43bb-b71d-fc47a37297f3",
   "metadata": {},
   "outputs": [],
   "source": [
    "#this is a single line comment example."
   ]
  },
  {
   "cell_type": "markdown",
   "id": "b76b5bd1-ecc8-4f82-9750-ea5a12a9f09c",
   "metadata": {},
   "source": [
    "To add a multi-line comment, we can use (''' ''') ,anything between tripel quotes are considered as a multiline comment by python interpreter."
   ]
  },
  {
   "cell_type": "code",
   "execution_count": null,
   "id": "3456336e-ba6c-4795-8602-73d1a69ca908",
   "metadata": {},
   "outputs": [],
   "source": [
    "\"\"\"this is a multiline \n",
    "    comment example\n",
    "\"\"\""
   ]
  },
  {
   "cell_type": "markdown",
   "id": "df70360d-527b-4579-91e7-3d432fbb96f7",
   "metadata": {},
   "source": [
    "##Q2. What are variables in Python? How do you declare and assign values to variables?##"
   ]
  },
  {
   "cell_type": "markdown",
   "id": "ad938265-cc12-4055-a22f-84a7545fd27c",
   "metadata": {},
   "source": [
    "In Python, variables are used to store data values. They act as placeholders that can hold different types of information, such as numbers, strings, lists, or even more complex data structures. Variables allow you to store and manipulate data throughout your program."
   ]
  },
  {
   "cell_type": "markdown",
   "id": "c1e5bcc1-5099-45de-8c26-1743c4051fbc",
   "metadata": {},
   "source": [
    "# Assigning a string value to a variable\n",
    "name = \"Pratul\"\n",
    "\n",
    "# Assigning an integer value to a variable\n",
    "age = 20\n",
    "\n",
    "# Assigning a floating-point value to a variable\n",
    "height = 5.11 \n",
    "\n",
    "# Assigning a boolean value to a variable\n",
    "is_true = True\n",
    "\n",
    "# Assigning a list of values to a variable\n",
    "numbers = [1, 2, 3, 4, 5]\n",
    "\n",
    "# Assigning a complex number of values to a variable\n",
    "comp = 12+7j"
   ]
  },
  {
   "cell_type": "markdown",
   "id": "eb45e097-cb24-40a6-98fb-3c175e28b6fe",
   "metadata": {},
   "source": [
    "##Q3. How do you convert one data type to another in Python?##"
   ]
  },
  {
   "cell_type": "markdown",
   "id": "9f3b0fdd-83a5-46fd-8f16-21991423e9dc",
   "metadata": {},
   "source": [
    "In Python, we can convert one data type to another using built-in functions that are specifically designed for type conversion. \n",
    "ex - str1 = \"123\"\n",
    "    int(str1) = 123   using int() function we can convert number strings into integer values\n",
    "    \n",
    "str1 = \"123\"\n",
    "print(list(str1)) = ['1', '2', '3'] using list() function we can convert any string or integer or bollean values into list items."
   ]
  },
  {
   "cell_type": "markdown",
   "id": "4ce56d13-1199-44dc-9314-82c4c598f641",
   "metadata": {},
   "source": [
    "##Q4. How do you write and execute a Python script from the command line?##"
   ]
  },
  {
   "cell_type": "markdown",
   "id": "91248993-00ec-4096-ab06-3f5da404aee7",
   "metadata": {},
   "source": [
    "Open any text editor and create a new file and save it with a .py extension. For example, if we create a file named script.py. Now we can open a command prompt or terminal window.Navigate to the directory where we saved our Python script using the cd command. For example, our python script is saved in the Documents directory, now we can navigate to it using the following command (on Windows): cd Documents .\n",
    "Now by using the command python script.py and press enter to execute the command. The Python interpreter will read and execute the code in the script file. The output, if any, will be displayed in the command prompt or terminal."
   ]
  },
  {
   "cell_type": "markdown",
   "id": "edc791c7-83dc-454a-8853-0996102506df",
   "metadata": {},
   "source": [
    "#Q5. Given a list my_list = [1, 2, 3, 4, 5], write the code to slice the list and obtain the sub-list [2, 3].#"
   ]
  },
  {
   "cell_type": "code",
   "execution_count": 9,
   "id": "75dc5b4c-cf87-4481-a759-583d7560945b",
   "metadata": {},
   "outputs": [
    {
     "name": "stdout",
     "output_type": "stream",
     "text": [
      "After slicing the lis we get :  [2, 3]\n"
     ]
    }
   ],
   "source": [
    "my_list = [1, 2, 3, 4, 5]\n",
    "print(\"After slicing the lis we get : \",my_list[1:3])"
   ]
  },
  {
   "cell_type": "markdown",
   "id": "10d179a6-91f5-4fb1-a023-9c61abc65a98",
   "metadata": {},
   "source": [
    "##Q6. What is a complex number in mathematics, and how is it represented in Python?##"
   ]
  },
  {
   "cell_type": "markdown",
   "id": "4047b4d0-3da1-48a3-aa2a-2b2f2098619a",
   "metadata": {},
   "source": [
    "In mathematics, a complex number is a number that can be expressed in the form ('a + bi'), where a and b are real numbers, and i is the imaginary unit (defined as the square root of -1). The real part (a) represents the real number component, and the imaginary part (bi) represents the imaginary number component.\n",
    "\n",
    "In Python, complex numbers are supported as a built-in data type. They are represented using the complex class. The real and imaginary parts of a complex number can be any numeric values, including integers or floating-point numbers. Complex numbers in Python are written in the form a + bj, where a is the real part and b is the imaginary part.\n",
    "\n",
    "ex- com1 = 12+6j\n",
    "    com2 = 10-3j\n",
    "    print(com1+com2) = (22+3j)"
   ]
  },
  {
   "cell_type": "markdown",
   "id": "2775753d-74e1-4282-ad53-b17e2c9e833b",
   "metadata": {},
   "source": [
    "##Q7. What is the correct way to declare a variable named age and assign the value 25 to it?##"
   ]
  },
  {
   "cell_type": "markdown",
   "id": "c12e4b4e-757b-4272-b4b2-bf3454be7460",
   "metadata": {},
   "source": [
    " age = 25\n",
    " We can declare the variable and and assign te value to it using '=' assignment operator."
   ]
  },
  {
   "cell_type": "markdown",
   "id": "21733a9f-9ec3-4a23-8929-0412eb72da87",
   "metadata": {},
   "source": [
    "##Q8. Declare a variable named price and assign the value 9.99 to it. What data type does this variable\n",
    "belong to?##"
   ]
  },
  {
   "cell_type": "code",
   "execution_count": null,
   "id": "fc2c9e39-9093-4cdd-8afa-651f19f63456",
   "metadata": {},
   "outputs": [],
   "source": [
    "price = 9.99 \n",
    "# tis variable is a float data type"
   ]
  },
  {
   "cell_type": "markdown",
   "id": "50050ac9-ddce-4816-a915-f64d0bfad1d0",
   "metadata": {},
   "source": [
    "##Q9. Create a variable named name and assign your full name to it as a string. How would you print the\n",
    "value of this variable?##"
   ]
  },
  {
   "cell_type": "code",
   "execution_count": 17,
   "id": "ee36eebe-0989-44b8-804e-b92f47734c3c",
   "metadata": {},
   "outputs": [
    {
     "name": "stdout",
     "output_type": "stream",
     "text": [
      "Pratul Makar\n"
     ]
    }
   ],
   "source": [
    "name = \"Pratul Makar\"\n",
    "print(name) #we can use built in print() function to print the value of the variable"
   ]
  },
  {
   "cell_type": "markdown",
   "id": "8b85474c-71cc-49ee-b17e-83993a1bb04d",
   "metadata": {},
   "source": [
    "##Q10. Given the string \"Hello, World!\", extract the substring \"World\".##"
   ]
  },
  {
   "cell_type": "code",
   "execution_count": 20,
   "id": "6db6ffb6-c895-4a5b-b2cb-a729a5543e94",
   "metadata": {},
   "outputs": [
    {
     "data": {
      "text/plain": [
       "'World'"
      ]
     },
     "execution_count": 20,
     "metadata": {},
     "output_type": "execute_result"
    }
   ],
   "source": [
    "string = \"Hello, World!\"\n",
    "sub_string = string[7:12]\n",
    "sub_string"
   ]
  },
  {
   "cell_type": "markdown",
   "id": "2b8d3d7e-544f-41da-bf6f-294573073d4c",
   "metadata": {},
   "source": []
  },
  {
   "cell_type": "code",
   "execution_count": null,
   "id": "5440ea00-feb0-4f6d-8082-d94e857b7e30",
   "metadata": {},
   "outputs": [],
   "source": []
  },
  {
   "cell_type": "code",
   "execution_count": null,
   "id": "4745f12f-b193-43d9-a366-b971a6b79dd0",
   "metadata": {},
   "outputs": [],
   "source": []
  },
  {
   "cell_type": "code",
   "execution_count": null,
   "id": "feae751c-615a-4067-8b28-8b51cecd346a",
   "metadata": {},
   "outputs": [],
   "source": []
  },
  {
   "cell_type": "code",
   "execution_count": null,
   "id": "d6ec6fbd-758a-4fe2-a5b0-9064fdfc7042",
   "metadata": {},
   "outputs": [],
   "source": []
  }
 ],
 "metadata": {
  "kernelspec": {
   "display_name": "Python 3 (ipykernel)",
   "language": "python",
   "name": "python3"
  },
  "language_info": {
   "codemirror_mode": {
    "name": "ipython",
    "version": 3
   },
   "file_extension": ".py",
   "mimetype": "text/x-python",
   "name": "python",
   "nbconvert_exporter": "python",
   "pygments_lexer": "ipython3",
   "version": "3.10.8"
  }
 },
 "nbformat": 4,
 "nbformat_minor": 5
}
