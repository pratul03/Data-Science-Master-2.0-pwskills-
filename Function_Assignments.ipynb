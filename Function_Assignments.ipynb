{
 "cells": [
  {
   "cell_type": "markdown",
   "id": "23a3d37f-053b-4ec9-8eaa-4507f646fb20",
   "metadata": {
    "tags": []
   },
   "source": [
    "### Q1. Which keyword is used to create a function? Create a function to return a list of odd numbers in the range of 1 to 25.\n"
   ]
  },
  {
   "cell_type": "markdown",
   "id": "ffb9606d-4d77-41a2-9752-1db2250e3f0d",
   "metadata": {},
   "source": [
    "\"def\" keyword is used to create functions in python."
   ]
  },
  {
   "cell_type": "code",
   "execution_count": 2,
   "id": "cab0c1dc-6f15-46bc-b820-8447c5da7ea3",
   "metadata": {},
   "outputs": [],
   "source": [
    "def num(a):\n",
    "    n = []\n",
    "    for i in range(1,a):\n",
    "        if i%2 != 0 :\n",
    "            n.append(i)\n",
    "    return n"
   ]
  },
  {
   "cell_type": "code",
   "execution_count": 3,
   "id": "355f7d01-3325-4b9f-86c3-e5e358fa1c4c",
   "metadata": {},
   "outputs": [
    {
     "data": {
      "text/plain": [
       "[1, 3, 5, 7, 9, 11, 13, 15, 17, 19, 21, 23, 25]"
      ]
     },
     "execution_count": 3,
     "metadata": {},
     "output_type": "execute_result"
    }
   ],
   "source": [
    "num(26)"
   ]
  },
  {
   "cell_type": "markdown",
   "id": "095202d7-731f-4dda-9bc3-5eb020258d91",
   "metadata": {},
   "source": [
    "### Q2. Why *args and **kwargs is used in some functions? Create a function each for *args and **kwargs to demonstrate their use."
   ]
  },
  {
   "cell_type": "markdown",
   "id": "858a57ce-716f-452b-b1da-41ad42fdb901",
   "metadata": {},
   "source": [
    "The *args syntax allows a function to accept any number of positional arguments as a tuple. That means we can pass multiple arguments to the function without explicitly specifying the number of arguments."
   ]
  },
  {
   "cell_type": "code",
   "execution_count": 4,
   "id": "eed53011-40ec-4ec1-bcf4-f44f7937275b",
   "metadata": {},
   "outputs": [],
   "source": [
    "def even(*args):\n",
    "    n = []\n",
    "    for i in args:\n",
    "        if i%2 == 0:\n",
    "            n.append(i)\n",
    "    return n"
   ]
  },
  {
   "cell_type": "code",
   "execution_count": 5,
   "id": "421dec2c-d160-4f8c-bcea-d37efd03775c",
   "metadata": {},
   "outputs": [
    {
     "data": {
      "text/plain": [
       "[2, 4, 6, 8, 10, 12, 14, 16]"
      ]
     },
     "execution_count": 5,
     "metadata": {},
     "output_type": "execute_result"
    }
   ],
   "source": [
    "even(1,2,3,4,5,6,7,8,9,10,11,12,13,14,15,16)"
   ]
  },
  {
   "cell_type": "markdown",
   "id": "e0677984-31dd-44ea-833f-37c23907b6d1",
   "metadata": {},
   "source": [
    "The **kwargs syntax allows a function to accept any number of keyword arguments as a dictionary. That means we can pass multiple named arguments to the function without explicitly specifying them in the function definition."
   ]
  },
  {
   "cell_type": "code",
   "execution_count": 38,
   "id": "fcd10ab5-854f-4e6f-9ac2-63a6e2f58e76",
   "metadata": {},
   "outputs": [],
   "source": [
    "def sets(**kwargs):\n",
    "    for key,value in kwargs.items():\n",
    "        if isinstance(value,str):\n",
    "            print( f\"{key}:{value}\")"
   ]
  },
  {
   "cell_type": "code",
   "execution_count": 39,
   "id": "d8378b6c-8d18-4e6a-b49b-c2b6792c2da8",
   "metadata": {},
   "outputs": [
    {
     "name": "stdout",
     "output_type": "stream",
     "text": [
      "b:pratul\n",
      "c:C\n"
     ]
    }
   ],
   "source": [
    "sets(a=1,b=\"pratul\",c=\"C\",d=[\"a\",\"D\",56],l=(1,2,3,4,\"strings\"))"
   ]
  },
  {
   "cell_type": "markdown",
   "id": "a1868199-38bf-4489-a81c-0cd27a103dd3",
   "metadata": {},
   "source": [
    "#### Q3. What is an iterator in python? Name the method used to initialise the iterator object and the method used for iteration. Use these methods to print the first five elements of the given list [2, 4, 6, 8, 10, 12, 14, 16,18, 20]. ####"
   ]
  },
  {
   "cell_type": "markdown",
   "id": "b374d376-7b42-4998-a024-c13fea25460a",
   "metadata": {},
   "source": [
    "iterator is an object that allows you to iterate over collections of data, such as lists, tuples, dictionaries, and sets.\n",
    "\n",
    " The Python iterators object is initialized using the iter() method. It uses the next() method for iteration."
   ]
  },
  {
   "cell_type": "code",
   "execution_count": 52,
   "id": "5f4ad182-5adc-458b-8917-8611129cadb9",
   "metadata": {},
   "outputs": [
    {
     "name": "stdout",
     "output_type": "stream",
     "text": [
      "2\n",
      "4\n",
      "6\n",
      "8\n",
      "10\n"
     ]
    }
   ],
   "source": [
    "list1 = [2, 4, 6, 8, 10, 12, 14, 16, 18, 20]\n",
    "iterator = iter(list1)\n",
    "for _ in range(5):\n",
    "    element = next(iterator)\n",
    "    print(element)\n"
   ]
  },
  {
   "cell_type": "markdown",
   "id": "f8d42d94-8a71-43d9-bcee-5afbe88f0e9c",
   "metadata": {},
   "source": [
    "#### Q4. What is a generator function in python? Why yield keyword is used? Give an example of a generator function. ####"
   ]
  },
  {
   "cell_type": "markdown",
   "id": "80fecf8c-cade-4e92-8a68-af44f7dccbc2",
   "metadata": {},
   "source": [
    "In Python, a generator function is a special type of function that uses the \"yield\" keyword to return values one at a time as an iterator. Unlike regular functions that use \"return\" to provide a single result and terminate, generator functions allow you to pause and resume execution, allowing incremental and memory-efficient generation of values.\n",
    "\n",
    "\n",
    "The yield keyword is used to produce a value and suspend the generator's execution temporarily. When the generator is later resumed, it continues from where it was paused, keeping the function's local state intact.\n",
    "\n"
   ]
  },
  {
   "cell_type": "code",
   "execution_count": 48,
   "id": "82f01302-6089-4ab0-8aa4-0d28a34d66ae",
   "metadata": {},
   "outputs": [],
   "source": [
    "def fib(x):\n",
    "    a,b=0,1\n",
    "    for i in range(x):\n",
    "        yield a\n",
    "        a,b = b,a+b"
   ]
  },
  {
   "cell_type": "code",
   "execution_count": 49,
   "id": "5b7b85a5-2857-4ea3-b271-1ba6d00ed7ab",
   "metadata": {},
   "outputs": [
    {
     "name": "stdout",
     "output_type": "stream",
     "text": [
      "0\n",
      "1\n",
      "1\n",
      "2\n",
      "3\n",
      "5\n",
      "8\n",
      "13\n",
      "21\n",
      "34\n"
     ]
    }
   ],
   "source": [
    "for i in fib(10):\n",
    "    print(i)"
   ]
  },
  {
   "cell_type": "markdown",
   "id": "f046dca8-d784-41c3-a25c-c92b84ce7c87",
   "metadata": {},
   "source": [
    "#### Q5. Create a generator function for prime numbers less than 1000. Use the next() method to print the first 20 prime numbers. ####"
   ]
  },
  {
   "cell_type": "code",
   "execution_count": 58,
   "id": "47f812da-7409-421c-b8b1-7c4a770359a6",
   "metadata": {},
   "outputs": [],
   "source": []
  },
  {
   "cell_type": "code",
   "execution_count": 66,
   "id": "9dffc897-9753-496a-8033-4983c645baec",
   "metadata": {},
   "outputs": [],
   "source": [
    "def prime(a):\n",
    "    if a < 2:\n",
    "        return False\n",
    "    for i in range(2,int(a**0.5)+1):\n",
    "        if a%i == 0:\n",
    "            return False\n",
    "    return True\n",
    "def primes_generator(limit):\n",
    "    num = 2\n",
    "    count = 0\n",
    "    while count < limit:\n",
    "        if prime(num):\n",
    "            yield num\n",
    "            count += 1\n",
    "        num += 1"
   ]
  },
  {
   "cell_type": "code",
   "execution_count": 67,
   "id": "bbd07e5a-841e-4c8a-aa66-567f2f475fd0",
   "metadata": {},
   "outputs": [
    {
     "name": "stdout",
     "output_type": "stream",
     "text": [
      "2\n",
      "3\n",
      "5\n",
      "7\n",
      "11\n",
      "13\n",
      "17\n",
      "19\n",
      "23\n",
      "29\n",
      "31\n",
      "37\n",
      "41\n",
      "43\n",
      "47\n",
      "53\n",
      "59\n",
      "61\n",
      "67\n",
      "71\n"
     ]
    }
   ],
   "source": [
    "prime_generator = primes_generator(20)\n",
    "for _ in range(20):\n",
    "    print(next(prime_generator))"
   ]
  },
  {
   "cell_type": "code",
   "execution_count": null,
   "id": "63f18387-a765-4c82-b179-a51b47f2c4b5",
   "metadata": {},
   "outputs": [],
   "source": []
  },
  {
   "cell_type": "code",
   "execution_count": null,
   "id": "a32b8e7b-d16e-482c-a9e0-573f572086f1",
   "metadata": {},
   "outputs": [],
   "source": []
  },
  {
   "cell_type": "code",
   "execution_count": null,
   "id": "dad7d369-0344-469d-bce9-217f4d71a23e",
   "metadata": {},
   "outputs": [],
   "source": []
  }
 ],
 "metadata": {
  "kernelspec": {
   "display_name": "Python 3 (ipykernel)",
   "language": "python",
   "name": "python3"
  },
  "language_info": {
   "codemirror_mode": {
    "name": "ipython",
    "version": 3
   },
   "file_extension": ".py",
   "mimetype": "text/x-python",
   "name": "python",
   "nbconvert_exporter": "python",
   "pygments_lexer": "ipython3",
   "version": "3.10.8"
  }
 },
 "nbformat": 4,
 "nbformat_minor": 5
}
